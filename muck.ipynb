{
 "worksheets": [
  {
   "cells": [
    {
     "cell_type": "code",
     "metadata": {},
     "outputs": [],
     "input": [
      "# rpyc client\n",
      "import pyre.engine\n",
      "root = pyre.engine.start_client().root\n",
      "window = root.exposed_get_window()\n",
      "engine = window.engine\n",
      "agents = engine.agents"
     ],
     "language": "python",
     "prompt_number": 1
    },
    {
     "cell_type": "code",
     "metadata": {},
     "outputs": [],
     "input": [
      "import pyre.ai\n",
      "reload(pyre.ai)\n",
      "    \n",
      "for i, a in enumerate(agents):\n",
      "    a.swap_ai(pyre.ai.GameOfLife)"
     ],
     "language": "python"
    },
    {
     "cell_type": "code",
     "metadata": {},
     "outputs": [],
     "input": [
      "engine.agents_update = True"
     ],
     "language": "python"
    },
    {
     "cell_type": "markdown",
     "metadata": {},
     "source": [
      "pyreverse -o pdf -p Pyre pyre"
     ]
    }
   ]
  }
 ],
 "cells": [],
 "metadata": {
  "name": "",
  "signature": "sha256:5e0fe46c2b1c6aa6a6a4f38e041080b47b0f9b30e89124cd643d0a00eb32f9c8"
 },
 "nbformat": 3,
 "nbformat_minor": 0
}