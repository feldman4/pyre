{
 "worksheets": [
  {
   "cells": [
    {
     "cell_type": "code",
     "metadata": {},
     "outputs": [],
     "input": [
      "# rpyc client\n",
      "import rpyc\n",
      "import time\n",
      "reload(rpyc)\n",
      "\n",
      "conn = rpyc.connect(\"localhost\", 12345)\n",
      "bgsrv = rpyc.BgServingThread(conn)\n",
      "\n",
      "c = conn.root\n",
      "\n",
      "window = c.exposed_get_main_window()\n",
      "engine = window.engine\n",
      "agents = engine.agents"
     ],
     "language": "python",
     "prompt_number": 1
    },
    {
     "cell_type": "code",
     "metadata": {},
     "outputs": [],
     "input": [
      "for i in range(1000):\n",
      "    conn.poll_all(0.1)"
     ],
     "language": "python"
    },
    {
     "cell_type": "code",
     "metadata": {},
     "outputs": [],
     "input": [
      "import pyre.engine\n",
      "reload(pyre.engine)\n",
      "pyre.engine.monkey(engine)"
     ],
     "language": "python"
    },
    {
     "cell_type": "code",
     "metadata": {},
     "outputs": [],
     "input": [
      "import types\n",
      "import pyre.ai\n",
      "reload(pyre.ai)\n",
      "    \n",
      "for a in agents:\n",
      "    a.new_ai(pyre.ai.game_of_life)"
     ],
     "language": "python"
    },
    {
     "cell_type": "code",
     "metadata": {},
     "outputs": [],
     "input": [
      "engine.agents_update=True"
     ],
     "language": "python"
    },
    {
     "cell_type": "code",
     "metadata": {},
     "outputs": [],
     "input": [
      "# rpyc client\n",
      "import rpyc\n",
      "import time\n",
      "\n",
      "\n",
      "\n",
      "class ClientService(rpyc.Service):\n",
      "    def exposed_foo(self):\n",
      "        return \"foo\"\n",
      "\n",
      "conn = rpyc.connect(\"localhost\", 12346, service = ClientService)\n",
      "\n",
      "c = conn.root\n",
      "\n",
      "def foofunc():\n",
      "    return \"foo\"\n",
      "\n",
      "c.bar(foofunc)"
     ],
     "language": "python",
     "prompt_number": 7
    }
   ]
  }
 ],
 "cells": [],
 "metadata": {
  "name": "",
  "signature": "sha256:5e0fe46c2b1c6aa6a6a4f38e041080b47b0f9b30e89124cd643d0a00eb32f9c8"
 },
 "nbformat": 3,
 "nbformat_minor": 0
}